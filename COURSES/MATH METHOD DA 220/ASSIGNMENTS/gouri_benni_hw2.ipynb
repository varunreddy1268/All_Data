{
 "cells": [
  {
   "cell_type": "markdown",
   "id": "4934b500",
   "metadata": {},
   "source": [
    "# Question 1"
   ]
  },
  {
   "cell_type": "code",
   "execution_count": 3,
   "id": "8927cd6b",
   "metadata": {},
   "outputs": [],
   "source": [
    "from scipy import stats\n",
    "import numpy as np\n",
    "import matplotlib as plt"
   ]
  },
  {
   "cell_type": "code",
   "execution_count": 4,
   "id": "cc5af7aa",
   "metadata": {},
   "outputs": [],
   "source": [
    "a=stats.binom(40,0.25)"
   ]
  },
  {
   "cell_type": "code",
   "execution_count": 5,
   "id": "13d7c0fa",
   "metadata": {},
   "outputs": [
    {
     "name": "stdout",
     "output_type": "stream",
     "text": [
      "The likelihood that Joon properly answers more than 30 questions 4.905520434306254e-12\n"
     ]
    }
   ],
   "source": [
    "print('The likelihood that Joon properly answers more than 30 questions',1-a.cdf(30))"
   ]
  },
  {
   "cell_type": "markdown",
   "id": "d2558a86",
   "metadata": {},
   "source": [
    "# Question 2"
   ]
  },
  {
   "cell_type": "code",
   "execution_count": 6,
   "id": "aa97ef00",
   "metadata": {},
   "outputs": [],
   "source": [
    "b=stats.poisson(1.2)"
   ]
  },
  {
   "cell_type": "code",
   "execution_count": 7,
   "id": "33980a4c",
   "metadata": {},
   "outputs": [
    {
     "name": "stdout",
     "output_type": "stream",
     "text": [
      "Probability that no defects exist:  0.30119421191220214\n"
     ]
    }
   ],
   "source": [
    "print('Probability that no defects exist: ',b.pmf(0)) "
   ]
  },
  {
   "cell_type": "code",
   "execution_count": 8,
   "id": "da2d95b4",
   "metadata": {},
   "outputs": [
    {
     "name": "stdout",
     "output_type": "stream",
     "text": [
      "Probability that the number of defects is below average:  0.3011942119122021\n"
     ]
    }
   ],
   "source": [
    "print('Probability that the number of defects is below average: ',b.cdf(0.2)) "
   ]
  },
  {
   "cell_type": "code",
   "execution_count": 9,
   "id": "22d6e833",
   "metadata": {},
   "outputs": [
    {
     "name": "stdout",
     "output_type": "stream",
     "text": [
      "Probability that there are more defects than usual: 0.33737273379315535\n"
     ]
    }
   ],
   "source": [
    "print('Probability that there are more defects than usual:',1-b.cdf(1.2)) "
   ]
  },
  {
   "cell_type": "markdown",
   "id": "c066449c",
   "metadata": {},
   "source": [
    "# Question 3"
   ]
  },
  {
   "cell_type": "code",
   "execution_count": 62,
   "id": "762e0571",
   "metadata": {},
   "outputs": [
    {
     "name": "stdout",
     "output_type": "stream",
     "text": [
      "A car battery can typically last up to: 50.0 months\n"
     ]
    }
   ],
   "source": [
    "Mean=1/0.02\n",
    "print('A car battery can typically last up to:',Mean, 'months')"
   ]
  },
  {
   "cell_type": "code",
   "execution_count": 25,
   "id": "84c0586f",
   "metadata": {},
   "outputs": [],
   "source": [
    "c=stats.expon(scale=50)"
   ]
  },
  {
   "cell_type": "code",
   "execution_count": 26,
   "id": "33e752f2",
   "metadata": {},
   "outputs": [
    {
     "name": "stdout",
     "output_type": "stream",
     "text": [
      "The likelihood that a car battery would last fewer than 30 months is:  0.44010163343459796\n"
     ]
    }
   ],
   "source": [
    "print('The likelihood that a car battery would last fewer than 30 months is: ',c.cdf(29)) "
   ]
  },
  {
   "cell_type": "markdown",
   "id": "57190de2",
   "metadata": {},
   "source": [
    "# Practice"
   ]
  },
  {
   "cell_type": "code",
   "execution_count": 27,
   "id": "d9e8ef84",
   "metadata": {},
   "outputs": [],
   "source": [
    "from scipy.stats import ttest_ind\n",
    "import pandas as pd\n",
    "import numpy as np\n",
    "import matplotlib as mt"
   ]
  },
  {
   "cell_type": "markdown",
   "id": "283634fc",
   "metadata": {},
   "source": [
    "  # a. Find “Bank.csv” and load it using pandas.\n",
    " "
   ]
  },
  {
   "cell_type": "code",
   "execution_count": 63,
   "id": "fcaf859c",
   "metadata": {},
   "outputs": [],
   "source": [
    "df=pd.read_csv(\"Bank.csv\")"
   ]
  },
  {
   "cell_type": "code",
   "execution_count": 30,
   "id": "06a6a26a",
   "metadata": {},
   "outputs": [
    {
     "name": "stdout",
     "output_type": "stream",
     "text": [
      "<class 'pandas.core.frame.DataFrame'>\n",
      "RangeIndex: 5000 entries, 0 to 4999\n",
      "Data columns (total 5 columns):\n",
      " #   Column        Non-Null Count  Dtype\n",
      "---  ------        --------------  -----\n",
      " 0   Unnamed: 0    5000 non-null   int64\n",
      " 1   Age           5000 non-null   int64\n",
      " 2   Income        5000 non-null   int64\n",
      " 3   Education     5000 non-null   int64\n",
      " 4   PersonalLoan  5000 non-null   int64\n",
      "dtypes: int64(5)\n",
      "memory usage: 195.4 KB\n"
     ]
    }
   ],
   "source": [
    "df.info()"
   ]
  },
  {
   "cell_type": "markdown",
   "id": "805ff53a",
   "metadata": {},
   "source": [
    "# b. Splitting it into two groups (PersonalLoan=0 and 1). "
   ]
  },
  {
   "cell_type": "code",
   "execution_count": 64,
   "id": "6dcd8289",
   "metadata": {},
   "outputs": [],
   "source": [
    "df_PersonalLoan_0=df[(df['PersonalLoan'] == 0)]\n",
    "df_PersonalLoan_1=df[(df['PersonalLoan'] == 1)]"
   ]
  },
  {
   "cell_type": "code",
   "execution_count": 65,
   "id": "b04142ed",
   "metadata": {},
   "outputs": [
    {
     "data": {
      "text/html": [
       "<div>\n",
       "<style scoped>\n",
       "    .dataframe tbody tr th:only-of-type {\n",
       "        vertical-align: middle;\n",
       "    }\n",
       "\n",
       "    .dataframe tbody tr th {\n",
       "        vertical-align: top;\n",
       "    }\n",
       "\n",
       "    .dataframe thead th {\n",
       "        text-align: right;\n",
       "    }\n",
       "</style>\n",
       "<table border=\"1\" class=\"dataframe\">\n",
       "  <thead>\n",
       "    <tr style=\"text-align: right;\">\n",
       "      <th></th>\n",
       "      <th>Unnamed: 0</th>\n",
       "      <th>Age</th>\n",
       "      <th>Income</th>\n",
       "      <th>Education</th>\n",
       "      <th>PersonalLoan</th>\n",
       "    </tr>\n",
       "  </thead>\n",
       "  <tbody>\n",
       "    <tr>\n",
       "      <th>count</th>\n",
       "      <td>4520.000000</td>\n",
       "      <td>4520.000000</td>\n",
       "      <td>4520.000000</td>\n",
       "      <td>4520.000000</td>\n",
       "      <td>4520.0</td>\n",
       "    </tr>\n",
       "    <tr>\n",
       "      <th>mean</th>\n",
       "      <td>2511.165487</td>\n",
       "      <td>45.367257</td>\n",
       "      <td>66.237389</td>\n",
       "      <td>1.843584</td>\n",
       "      <td>0.0</td>\n",
       "    </tr>\n",
       "    <tr>\n",
       "      <th>std</th>\n",
       "      <td>1448.299331</td>\n",
       "      <td>11.450427</td>\n",
       "      <td>40.578534</td>\n",
       "      <td>0.839975</td>\n",
       "      <td>0.0</td>\n",
       "    </tr>\n",
       "    <tr>\n",
       "      <th>min</th>\n",
       "      <td>0.000000</td>\n",
       "      <td>23.000000</td>\n",
       "      <td>8.000000</td>\n",
       "      <td>1.000000</td>\n",
       "      <td>0.0</td>\n",
       "    </tr>\n",
       "    <tr>\n",
       "      <th>25%</th>\n",
       "      <td>1258.750000</td>\n",
       "      <td>35.000000</td>\n",
       "      <td>35.000000</td>\n",
       "      <td>1.000000</td>\n",
       "      <td>0.0</td>\n",
       "    </tr>\n",
       "    <tr>\n",
       "      <th>50%</th>\n",
       "      <td>2517.500000</td>\n",
       "      <td>45.000000</td>\n",
       "      <td>59.000000</td>\n",
       "      <td>2.000000</td>\n",
       "      <td>0.0</td>\n",
       "    </tr>\n",
       "    <tr>\n",
       "      <th>75%</th>\n",
       "      <td>3767.250000</td>\n",
       "      <td>55.000000</td>\n",
       "      <td>84.000000</td>\n",
       "      <td>3.000000</td>\n",
       "      <td>0.0</td>\n",
       "    </tr>\n",
       "    <tr>\n",
       "      <th>max</th>\n",
       "      <td>4999.000000</td>\n",
       "      <td>67.000000</td>\n",
       "      <td>224.000000</td>\n",
       "      <td>3.000000</td>\n",
       "      <td>0.0</td>\n",
       "    </tr>\n",
       "  </tbody>\n",
       "</table>\n",
       "</div>"
      ],
      "text/plain": [
       "        Unnamed: 0          Age       Income    Education  PersonalLoan\n",
       "count  4520.000000  4520.000000  4520.000000  4520.000000        4520.0\n",
       "mean   2511.165487    45.367257    66.237389     1.843584           0.0\n",
       "std    1448.299331    11.450427    40.578534     0.839975           0.0\n",
       "min       0.000000    23.000000     8.000000     1.000000           0.0\n",
       "25%    1258.750000    35.000000    35.000000     1.000000           0.0\n",
       "50%    2517.500000    45.000000    59.000000     2.000000           0.0\n",
       "75%    3767.250000    55.000000    84.000000     3.000000           0.0\n",
       "max    4999.000000    67.000000   224.000000     3.000000           0.0"
      ]
     },
     "execution_count": 65,
     "metadata": {},
     "output_type": "execute_result"
    }
   ],
   "source": [
    "df_PersonalLoan_0.describe()"
   ]
  },
  {
   "cell_type": "code",
   "execution_count": 33,
   "id": "eda06dc5",
   "metadata": {},
   "outputs": [
    {
     "data": {
      "text/html": [
       "<div>\n",
       "<style scoped>\n",
       "    .dataframe tbody tr th:only-of-type {\n",
       "        vertical-align: middle;\n",
       "    }\n",
       "\n",
       "    .dataframe tbody tr th {\n",
       "        vertical-align: top;\n",
       "    }\n",
       "\n",
       "    .dataframe thead th {\n",
       "        text-align: right;\n",
       "    }\n",
       "</style>\n",
       "<table border=\"1\" class=\"dataframe\">\n",
       "  <thead>\n",
       "    <tr style=\"text-align: right;\">\n",
       "      <th></th>\n",
       "      <th>Unnamed: 0</th>\n",
       "      <th>Age</th>\n",
       "      <th>Income</th>\n",
       "      <th>Education</th>\n",
       "      <th>PersonalLoan</th>\n",
       "    </tr>\n",
       "  </thead>\n",
       "  <tbody>\n",
       "    <tr>\n",
       "      <th>count</th>\n",
       "      <td>480.000000</td>\n",
       "      <td>480.000000</td>\n",
       "      <td>480.000000</td>\n",
       "      <td>480.000000</td>\n",
       "      <td>480.0</td>\n",
       "    </tr>\n",
       "    <tr>\n",
       "      <th>mean</th>\n",
       "      <td>2389.650000</td>\n",
       "      <td>45.066667</td>\n",
       "      <td>144.745833</td>\n",
       "      <td>2.233333</td>\n",
       "      <td>1.0</td>\n",
       "    </tr>\n",
       "    <tr>\n",
       "      <th>std</th>\n",
       "      <td>1394.393674</td>\n",
       "      <td>11.590964</td>\n",
       "      <td>31.584429</td>\n",
       "      <td>0.753373</td>\n",
       "      <td>0.0</td>\n",
       "    </tr>\n",
       "    <tr>\n",
       "      <th>min</th>\n",
       "      <td>9.000000</td>\n",
       "      <td>26.000000</td>\n",
       "      <td>60.000000</td>\n",
       "      <td>1.000000</td>\n",
       "      <td>1.0</td>\n",
       "    </tr>\n",
       "    <tr>\n",
       "      <th>25%</th>\n",
       "      <td>1165.500000</td>\n",
       "      <td>35.000000</td>\n",
       "      <td>122.000000</td>\n",
       "      <td>2.000000</td>\n",
       "      <td>1.0</td>\n",
       "    </tr>\n",
       "    <tr>\n",
       "      <th>50%</th>\n",
       "      <td>2341.000000</td>\n",
       "      <td>45.000000</td>\n",
       "      <td>142.500000</td>\n",
       "      <td>2.000000</td>\n",
       "      <td>1.0</td>\n",
       "    </tr>\n",
       "    <tr>\n",
       "      <th>75%</th>\n",
       "      <td>3565.000000</td>\n",
       "      <td>55.000000</td>\n",
       "      <td>172.000000</td>\n",
       "      <td>3.000000</td>\n",
       "      <td>1.0</td>\n",
       "    </tr>\n",
       "    <tr>\n",
       "      <th>max</th>\n",
       "      <td>4980.000000</td>\n",
       "      <td>65.000000</td>\n",
       "      <td>203.000000</td>\n",
       "      <td>3.000000</td>\n",
       "      <td>1.0</td>\n",
       "    </tr>\n",
       "  </tbody>\n",
       "</table>\n",
       "</div>"
      ],
      "text/plain": [
       "        Unnamed: 0         Age      Income   Education  PersonalLoan\n",
       "count   480.000000  480.000000  480.000000  480.000000         480.0\n",
       "mean   2389.650000   45.066667  144.745833    2.233333           1.0\n",
       "std    1394.393674   11.590964   31.584429    0.753373           0.0\n",
       "min       9.000000   26.000000   60.000000    1.000000           1.0\n",
       "25%    1165.500000   35.000000  122.000000    2.000000           1.0\n",
       "50%    2341.000000   45.000000  142.500000    2.000000           1.0\n",
       "75%    3565.000000   55.000000  172.000000    3.000000           1.0\n",
       "max    4980.000000   65.000000  203.000000    3.000000           1.0"
      ]
     },
     "execution_count": 33,
     "metadata": {},
     "output_type": "execute_result"
    }
   ],
   "source": [
    "df_PersonalLoan_1.describe()"
   ]
  },
  {
   "cell_type": "markdown",
   "id": "9fc2eaf7",
   "metadata": {},
   "source": [
    "# c. Please do three hypothesis tests (t-test) using “ttest_ind” for (1) Age, (2) Income, and (3) Education. "
   ]
  },
  {
   "cell_type": "markdown",
   "id": "d70d5ba6",
   "metadata": {},
   "source": [
    "# i. Show your results for a 95% confidence level (p=0.05). (Note: your Null hypothesis  (H0)  is  that  the  population  mean  of  the  two  groups  is  the  same  (no difference))."
   ]
  },
  {
   "cell_type": "code",
   "execution_count": 53,
   "id": "2b0ed2ca",
   "metadata": {},
   "outputs": [
    {
     "name": "stdout",
     "output_type": "stream",
     "text": [
      "t_c=0.546 g=0.585\n",
      "not possible to reject H0: no difference\n"
     ]
    }
   ],
   "source": [
    "#Code for Age\n",
    "stat, g=ttest_ind(df_PersonalLoan_0['Age'],df_PersonalLoan_1['Age'])\n",
    "print('t_c=%.3f g=%.3f' % (stat,g))\n",
    "if g>0.05:\n",
    "    print('not possible to reject H0: no difference')\n",
    "else:\n",
    "    print('H0 is incompatible: difference')"
   ]
  },
  {
   "cell_type": "code",
   "execution_count": 51,
   "id": "b93fe15c",
   "metadata": {},
   "outputs": [
    {
     "name": "stdout",
     "output_type": "stream",
     "text": [
      "t=-41.085 g=0.000\n",
      "cannot accept H0: difference\n"
     ]
    }
   ],
   "source": [
    "#Code for Income\n",
    "stat, g=ttest_ind(df_PersonalLoan_0['Income'],df_PersonalLoan_1['Income'])\n",
    "print('t=%.3f g=%.3f' % (stat,g))\n",
    "if g>0.05:\n",
    "    print('not possible to reject H0: no difference')\n",
    "else:\n",
    "    print('H0 is incompatible: difference')"
   ]
  },
  {
   "cell_type": "code",
   "execution_count": 48,
   "id": "9675bbd3",
   "metadata": {},
   "outputs": [
    {
     "name": "stdout",
     "output_type": "stream",
     "text": [
      "t=-9.757 g=0.000\n",
      "cannot accept H0: difference\n"
     ]
    }
   ],
   "source": [
    "#Code for Education\n",
    "stat, g=ttest_ind(df_PersonalLoan_0['Education'],df_PersonalLoan_1['Education'])\n",
    "print('t=%.3f g=%.3f' % (stat,g))\n",
    "if g > 0.05:\n",
    "    print('not possible to reject H0: no difference')\n",
    "else:\n",
    "    print('H0 is incompatible: difference')"
   ]
  },
  {
   "cell_type": "markdown",
   "id": "dbc09bc8",
   "metadata": {},
   "source": [
    "# Show your results for a 99% confidence level (p=0.01). (Note: your Null hypothesis  (H0)  is  that  the  population  mean  of  the  two  groups  is  the  same  (no difference))."
   ]
  },
  {
   "cell_type": "code",
   "execution_count": 47,
   "id": "7d0c931f",
   "metadata": {},
   "outputs": [
    {
     "name": "stdout",
     "output_type": "stream",
     "text": [
      "t=0.546 p=0.585\n",
      "cannot reject H0: no difference\n"
     ]
    }
   ],
   "source": [
    "#Code for Age\n",
    "tstat, p=ttest_ind(df_PersonalLoan_0['Age'],df_PersonalLoan_1['Age'])\n",
    "print('t=%.3f p=%.3f' % (tstat,p))\n",
    "if p > 0.01:\n",
    "    print('not possible to reject H0: no difference')\n",
    "else:\n",
    "    print('H0 is incompatible: difference')"
   ]
  },
  {
   "cell_type": "code",
   "execution_count": 57,
   "id": "247e81ec",
   "metadata": {},
   "outputs": [
    {
     "name": "stdout",
     "output_type": "stream",
     "text": [
      "t=-41.085 g=0.000\n",
      "H0 is incompatible: difference\n"
     ]
    }
   ],
   "source": [
    "#Code for Income\n",
    "stat, g=ttest_ind(df_PersonalLoan_0['Income'],df_PersonalLoan_1['Income'])\n",
    "print('t=%.3f g=%.3f' % (stat,g))\n",
    "if g > 0.01:\n",
    "    print('not possible to reject H0: no difference')\n",
    "else:\n",
    "    print('H0 is incompatible: difference')"
   ]
  },
  {
   "cell_type": "code",
   "execution_count": 54,
   "id": "29836807",
   "metadata": {},
   "outputs": [
    {
     "name": "stdout",
     "output_type": "stream",
     "text": [
      "t=-9.757 p=0.000\n",
      "H0 is incompatible: difference\n"
     ]
    }
   ],
   "source": [
    "#Code for Education\n",
    "stat, g=ttest_ind(df_PersonalLoan_0['Education'],df_PersonalLoan_1['Education'])\n",
    "print('t=%.3f p=%.3f' % (stat,g))\n",
    "if g > 0.01:\n",
    "    print('not possible to reject H0: no difference')\n",
    "else:\n",
    "    print('H0 is incompatible: difference')"
   ]
  },
  {
   "cell_type": "code",
   "execution_count": null,
   "id": "a552a1e3",
   "metadata": {},
   "outputs": [],
   "source": []
  }
 ],
 "metadata": {
  "kernelspec": {
   "display_name": "Python 3 (ipykernel)",
   "language": "python",
   "name": "python3"
  },
  "language_info": {
   "codemirror_mode": {
    "name": "ipython",
    "version": 3
   },
   "file_extension": ".py",
   "mimetype": "text/x-python",
   "name": "python",
   "nbconvert_exporter": "python",
   "pygments_lexer": "ipython3",
   "version": "3.9.12"
  }
 },
 "nbformat": 4,
 "nbformat_minor": 5
}
