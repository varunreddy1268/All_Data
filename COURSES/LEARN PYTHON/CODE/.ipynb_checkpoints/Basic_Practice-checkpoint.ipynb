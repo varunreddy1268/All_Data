{
 "cells": [
  {
   "cell_type": "code",
   "execution_count": 7,
   "id": "7cacf929",
   "metadata": {},
   "outputs": [
    {
     "name": "stdout",
     "output_type": "stream",
     "text": [
      "Even 2\n",
      "Even 4\n",
      "Even 6\n",
      "Even 8\n",
      "Even 10\n",
      "Even 12\n",
      "Even 14\n",
      "Even 16\n",
      "Even 18\n",
      "Even 20\n",
      "Even 22\n",
      "Even 24\n",
      "Even 26\n",
      "Even 28\n",
      "Even 30\n",
      "Even 32\n",
      "Even 34\n",
      "Even 36\n",
      "Even 38\n",
      "Even 40\n",
      "Even 42\n",
      "Even 44\n",
      "Even 46\n",
      "Even 48\n",
      "Even 50\n",
      "Even 52\n",
      "Even 54\n",
      "Even 56\n",
      "Even 58\n",
      "Even 60\n",
      "Even 62\n",
      "Even 64\n",
      "Even 66\n",
      "Even 68\n",
      "Even 70\n",
      "Even 72\n",
      "Even 74\n",
      "Even 76\n",
      "Even 78\n",
      "Even 80\n",
      "Even 82\n",
      "Even 84\n",
      "Even 86\n",
      "Even 88\n",
      "Even 90\n",
      "Even 92\n",
      "Even 94\n",
      "Even 96\n",
      "Even 98\n",
      "Even 100\n"
     ]
    }
   ],
   "source": [
    "for i in range(1,101):\n",
    "    if(i%2==0):\n",
    "        print(\"Even\",i)"
   ]
  },
  {
   "cell_type": "code",
   "execution_count": null,
   "id": "d7c066b8",
   "metadata": {},
   "outputs": [],
   "source": []
  }
 ],
 "metadata": {
  "kernelspec": {
   "display_name": "Python 3 (ipykernel)",
   "language": "python",
   "name": "python3"
  },
  "language_info": {
   "codemirror_mode": {
    "name": "ipython",
    "version": 3
   },
   "file_extension": ".py",
   "mimetype": "text/x-python",
   "name": "python",
   "nbconvert_exporter": "python",
   "pygments_lexer": "ipython3",
   "version": "3.9.12"
  }
 },
 "nbformat": 4,
 "nbformat_minor": 5
}
